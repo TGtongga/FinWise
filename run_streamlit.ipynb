{
 "cells": [
  {
   "cell_type": "code",
   "execution_count": 3,
   "metadata": {},
   "outputs": [
    {
     "name": "stdout",
     "output_type": "stream",
     "text": [
      "✅ Saved: fund_data/LIONGLOBAL SGD ENHANCED LIQUIDITY A ACC SGD.csv\n",
      "✅ Saved: fund_data/HGIF GLOBAL INVESTMENT GRADE SECURITISED CREDIT BOND AM3H SGD.csv\n",
      "✅ Saved: fund_data/ALLIANZ GLOBAL FLOATING RATE NOTES PLUS CL AMG DIS H2-SGD.csv\n",
      "✅ Saved: fund_data/FIDELITY GLOBAL DIVIDEND A-MINCOME(G)-SGD-H.csv\n",
      "✅ Saved: fund_data/AB SICAV I AMERICAN GROWTH A SGD.csv\n",
      "✅ Saved: fund_data/FSSA REGIONAL INDIA A ACC SGD.csv\n",
      "✅ Saved: fund_data/FIDELITY GLOBAL TECHNOLOGY A-ACC SGD.csv\n",
      "✅ Saved: fund_data/LIONGLOBAL ALL SEASONS FUND (STANDARD) CL ACC SGD.csv\n",
      "✅ Saved: fund_data/JANUS HENDERSON BALANCED A ACC SGD.csv\n",
      "✅ Saved: fund_data/AB SICAV I EMERGING MARKETS MULTI-ASSET PORTFOLIO AD SGD-H.csv\n"
     ]
    }
   ],
   "source": [
    "import os\n",
    "import pandas as pd\n",
    "\n",
    "# Base path\n",
    "data_dir = \"fund_data\"\n",
    "\n",
    "# Explicit mapping of Excel filenames to official fund names\n",
    "xlsx_to_fund_name = {\n",
    "    \"LIONGLOBAL NEW WEALTH SERIES - LIONGLOBAL SGD ENHANCED LIQUIDITY A ACC SGD Daily Prices (Since Inception Price History).xlsx\": \"LIONGLOBAL SGD ENHANCED LIQUIDITY A ACC SGD\",\n",
    "    \"HGIF - GLOBAL INVESTMENT GRADE SECURITISED CREDIT BOND AM3H SGD Daily Prices (Since Inception Price History).xlsx\": \"HGIF GLOBAL INVESTMENT GRADE SECURITISED CREDIT BOND AM3H SGD\",\n",
    "    \"ALLIANZ GLOBAL FLOATING RATE NOTES PLUS CL AMG DIS H2-SGD Daily Prices (Since Inception Price History).xlsx\": \"ALLIANZ GLOBAL FLOATING RATE NOTES PLUS CL AMG DIS H2-SGD\",\n",
    "    \"FIDELITY GLOBAL DIVIDEND A-MINCOME(G)-SGD-H Daily Prices (Since Inception Price History).xlsx\": \"FIDELITY GLOBAL DIVIDEND A-MINCOME(G)-SGD-H\",\n",
    "    \"AB SICAV I AMERICAN GROWTH A SGD Daily Prices (Since Inception Price History).xlsx\": \"AB SICAV I AMERICAN GROWTH A SGD\",\n",
    "    \"FSSA REGIONAL INDIA A ACC SGD Daily Prices (Since Inception Price History).xlsx\": \"FSSA REGIONAL INDIA A ACC SGD\",\n",
    "    \"FIDELITY GLOBAL TECHNOLOGY A-ACC SGD Daily Prices (Since Inception Price History).xlsx\": \"FIDELITY GLOBAL TECHNOLOGY A-ACC SGD\",\n",
    "    \"LIONGLOBAL NEW WEALTH SERIES - LIONGLOBAL ALL SEASONS FUND (STANDARD) CL ACC SGD Daily Prices (Since Inception Price History).xlsx\": \"LIONGLOBAL ALL SEASONS FUND (STANDARD) CL ACC SGD\",\n",
    "    \"JANUS HENDERSON BALANCED A ACC SGD Daily Prices (Since Inception Price History).xlsx\": \"JANUS HENDERSON BALANCED A ACC SGD\",\n",
    "    \"AB SICAV I EMERGING MARKETS MULTI-ASSET PORTFOLIO AD SGD-H Daily Prices (Since Inception Price History).xlsx\": \"AB SICAV I EMERGING MARKETS MULTI-ASSET PORTFOLIO AD SGD-H\"\n",
    "}\n",
    "\n",
    "\n",
    "# Loop through mapping and process each file\n",
    "for xlsx_file, fund_name in xlsx_to_fund_name.items():\n",
    "    xlsx_path = os.path.join(data_dir, xlsx_file)\n",
    "    csv_path = os.path.join(data_dir, f\"{fund_name}.csv\")\n",
    "    \n",
    "    try:\n",
    "        df = pd.read_excel(xlsx_path)\n",
    "        df.to_csv(csv_path, index=False)\n",
    "        print(f\"✅ Saved: {csv_path}\")\n",
    "    except Exception as e:\n",
    "        print(f\"❌ Failed to process {xlsx_file}: {e}\")\n"
   ]
  }
 ],
 "metadata": {
  "kernelspec": {
   "display_name": "myenv",
   "language": "python",
   "name": "python3"
  },
  "language_info": {
   "codemirror_mode": {
    "name": "ipython",
    "version": 3
   },
   "file_extension": ".py",
   "mimetype": "text/x-python",
   "name": "python",
   "nbconvert_exporter": "python",
   "pygments_lexer": "ipython3",
   "version": "3.12.9"
  }
 },
 "nbformat": 4,
 "nbformat_minor": 2
}
